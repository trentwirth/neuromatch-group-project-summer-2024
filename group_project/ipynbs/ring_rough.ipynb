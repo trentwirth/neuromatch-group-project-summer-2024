{
 "cells": [
  {
   "cell_type": "code",
   "execution_count": null,
   "metadata": {},
   "outputs": [],
   "source": [
    "import numpy as np\n",
    "from numpy import ndarray\n",
    "import matplotlib.pyplot as plt\n",
    "import scipy as sp\n",
    "\n",
    "%matplotlib ipympl\n",
    "\n",
    "\n",
    "np.set_printoptions(precision=4) #this is to set the floating point precision"
   ]
  },
  {
   "cell_type": "markdown",
   "metadata": {},
   "source": [
    "The equation we are trying to implement for now is the following. \n",
    "\n",
    "$$ \\frac{d r_i}{dt} = - r_i + \\big[ W_{ij}r_j + I_i \\big]_{+} $$\n",
    "\n",
    "$r_i$ = `firing_rate` \\\n",
    "$I_i$ = `input_bias` \\\n",
    "$W_{ij}$ = `connectivity_matrix` \\\n",
    "\n",
    "$i$ runs over the neurons (number of neurons = `max_neuron_number`) in the network. \\\n",
    "$\\big[ W_{ij}r_j + I_i \\big]_{+}$ = max $\\left( W_{ij}r_j + I_i,\\ 0\\right)$\n"
   ]
  },
  {
   "cell_type": "code",
   "execution_count": null,
   "metadata": {},
   "outputs": [],
   "source": [
    "# Initialising all the variables\n",
    "\n",
    "max_neuron_number = 360\n",
    "total_time_steps = 500\n",
    "constant_input_bias = 0.1\n",
    "tau_m = 0.1 #membrane time constant\n",
    "dt=0.005 #time step for the simulation\n",
    "total_time_elapsed = total_time_steps * dt\n",
    "\n",
    "theta_neurons = np.array([(2*np.pi*i)/max_neuron_number for i in range(max_neuron_number)])\n",
    "input_bias = np.ones(max_neuron_number)*constant_input_bias\n",
    "\n",
    "#array of size (neuron_number,length of simulation time steps)\n",
    "#firing_rate = np.random.random(size=(max_neuron_number, total_time_steps)) \n",
    "firing_rate = np.random.rand(total_time_steps,len(theta_neurons))*0.01 #initialise all the voltages at the first time step arbitrarily\n",
    "\n",
    "\n",
    "#The W_{ij} connectivity in the firing rate equation. Initialised randomly.\n",
    "#Remember to keep pre-synapse and post synapse order in W, the connectivity matrix\n",
    "connectivity_matrix = np.random.random(size=(max_neuron_number, max_neuron_number)) \n",
    "\n"
   ]
  },
  {
   "cell_type": "code",
   "execution_count": null,
   "metadata": {},
   "outputs": [],
   "source": [
    "# Defining connectivity\n",
    "# For stable bump solutions to the ring attractor, one needs to be in a specific parameter regime of W_0 and W_1. \n",
    "# Safe bet is to take a negative value for W_0 and have a positive W_1 which are similar order of magnitude.\n",
    "W_0 = -2\n",
    "W_1 = 1\n",
    "\n",
    "for i in range(max_neuron_number):\n",
    "    for j in range(max_neuron_number):\n",
    "        connectivity_matrix[i][j] = W_1 * np.cos(theta_neurons[i]-theta_neurons[j]) + W_0 \n",
    "\n",
    "fig1 = plt.figure()\n",
    "ax1 = fig1.add_subplot()\n",
    "im1 = ax1.imshow(connectivity_matrix, aspect='auto')\n",
    "cbar= fig1.colorbar(im1)\n",
    "\n"
   ]
  },
  {
   "cell_type": "code",
   "execution_count": null,
   "metadata": {},
   "outputs": [],
   "source": [
    "def ring_simulation(total_time_steps,\n",
    "                    connectivity_matrix,\n",
    "                    input_bias,\n",
    "                    firing_rate,\n",
    "                    dt=dt,\n",
    "                    tau_m=tau_m):\n",
    "\n",
    "    #integrating to future time steps\n",
    "    for t in range(total_time_steps-1):\n",
    "        u = connectivity_matrix @ firing_rate[t,:]\n",
    "        for i in range(len(connectivity_matrix)):\n",
    "            firing_rate[t+1][i] = firing_rate[t][i] + dt/tau_m * (-firing_rate[t][i] + max(u[i] + input_bias[i],0))\n",
    "    \n",
    "    #Plotting\n",
    "    fig2 = plt.figure()\n",
    "    ax2 = fig2.add_subplot()\n",
    "    im2 = ax2.imshow(firing_rate, aspect='auto')\n",
    "    cbar = fig2.colorbar(im2)\n",
    "    #fig3.show()\n",
    "\n",
    "    return firing_rate\n",
    "            \n",
    "firing_rate = ring_simulation(total_time_steps=total_time_steps,\n",
    "                    connectivity_matrix=connectivity_matrix,\n",
    "                    input_bias=input_bias,\n",
    "                    firing_rate=firing_rate,\n",
    "                    dt=dt,\n",
    "                    tau_m=tau_m)\n"
   ]
  },
  {
   "cell_type": "code",
   "execution_count": null,
   "metadata": {},
   "outputs": [],
   "source": [
    "## Simulating again\n",
    "fig_input_bias_pre = plt.figure()\n",
    "ax_input_bias_pre = plt.plot(input_bias)\n",
    "\n",
    "# The motion direction of the stimulus = `visual_cue`\n",
    "visual_cue = 225\n",
    "\n",
    "k_constant = 0.1\n",
    "random_baseline_adjustment = 0.5\n",
    "\n",
    "firing_rate[0,:]=firing_rate[-1,:]\n",
    "input_bias = np.random.random(size=len(input_bias)) - random_baseline_adjustment\n",
    "\n",
    "for i in range(5):\n",
    "    input_bias[visual_cue-4+i] += k_constant*(1+i)*constant_input_bias\n",
    "    input_bias[visual_cue+i] += k_constant*(5-i)*constant_input_bias\n",
    "\n",
    "plt.close('all')\n",
    "fig_input_bias = plt.figure()\n",
    "ax_input_bias = plt.plot(input_bias)"
   ]
  },
  {
   "cell_type": "code",
   "execution_count": null,
   "metadata": {},
   "outputs": [],
   "source": [
    "\n",
    "firing_rate = ring_simulation(total_time_steps=total_time_steps,\n",
    "                    connectivity_matrix=connectivity_matrix,\n",
    "                    input_bias=input_bias,\n",
    "                    firing_rate=firing_rate,\n",
    "                    dt=dt,\n",
    "                    tau_m=tau_m)"
   ]
  },
  {
   "cell_type": "code",
   "execution_count": null,
   "metadata": {},
   "outputs": [],
   "source": [
    "plt.close('all')\n",
    "max_index = np.argmax(firing_rate[-1,:])\n",
    "plt.plot(range(max_neuron_number), firing_rate[-1,:])\n",
    "plt.title(\"Ring Simulation Output\")\n",
    "plt.text(45, np.max(firing_rate[-1,:]), f\"Max Neuron: {max_index}\", ha='right', va='top')  # Add a text label for the maximum value\n",
    "plt.show()"
   ]
  }
 ],
 "metadata": {
  "kernelspec": {
   "display_name": "neuroconnectome",
   "language": "python",
   "name": "python3"
  },
  "language_info": {
   "codemirror_mode": {
    "name": "ipython",
    "version": 3
   },
   "file_extension": ".py",
   "mimetype": "text/x-python",
   "name": "python",
   "nbconvert_exporter": "python",
   "pygments_lexer": "ipython3",
   "version": "3.10.13"
  }
 },
 "nbformat": 4,
 "nbformat_minor": 2
}
