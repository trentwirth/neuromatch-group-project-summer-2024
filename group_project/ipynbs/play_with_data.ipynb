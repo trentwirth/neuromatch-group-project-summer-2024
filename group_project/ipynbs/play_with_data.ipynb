{
 "cells": [
  {
   "cell_type": "code",
   "execution_count": 1,
   "metadata": {},
   "outputs": [],
   "source": [
    "import pandas as pd\n",
    "\n",
    "import scipy.io"
   ]
  },
  {
   "cell_type": "code",
   "execution_count": 4,
   "metadata": {},
   "outputs": [
    {
     "name": "stdout",
     "output_type": "stream",
     "text": [
      "/Users/trentonwirth/GitHub/neuromatch-group-project-summer-2024/group_project\n"
     ]
    }
   ],
   "source": [
    "import os\n",
    "\n",
    "# Print the current working directory\n",
    "print(os.getcwd())"
   ]
  },
  {
   "cell_type": "code",
   "execution_count": 7,
   "metadata": {},
   "outputs": [],
   "source": [
    "\n",
    "# Specify the path to the .mat file\n",
    "\n",
    "mat_file_path = '/Users/trentonwirth/GitHub/neuromatch-group-project-summer-2024/data/data01_direction4priors/data/sub01/steeve_exp11_data_sub01_sess01_run01_Pstd010_mean225_coh006_012_024_dir36_t107_73_33perCoh_130217_lab.mat'\n",
    "\n"
   ]
  },
  {
   "cell_type": "code",
   "execution_count": 59,
   "metadata": {},
   "outputs": [
    {
     "name": "stdout",
     "output_type": "stream",
     "text": [
      "dict_keys(['rmax', 'xcenter', 'ycenter', 'dotsize', 'density', 'speed', 'width', 'height', 'n', 'xmin', 'xmax', 'ymin', 'ymax', 'x', 'y', 'stepsize', 'dir', 'coherence', 'xstep', 'ystep', 'coherent'])\n"
     ]
    }
   ],
   "source": [
    "# Load the .mat file as a nested dictionary\n",
    "mat_data = scipy.io.loadmat(mat_file_path, simplify_cells=True)\n",
    "\n",
    "# Now, mat_data is a nested dictionary and can be accessed in a more straightforward manner\n",
    "mat_keys = mat_data.keys()\n",
    "myscreen_keys = mat_data['myscreen'].keys()\n",
    "fixStimulus_keys = mat_data['fixStimulus'].keys()\n",
    "stimulus_keys = mat_data['stimulus'].keys()\n",
    "stimulus_dot_keys = mat_data['stimulus']['dots'].keys()\n",
    "\n",
    "print(stimulus_dot_keys)"
   ]
  },
  {
   "cell_type": "code",
   "execution_count": null,
   "metadata": {},
   "outputs": [],
   "source": [
    "x = mat_data['stimulus']['dots']['x'][0:9]\n",
    "\n",
    "y = mat_data['stimulus']['dots']['y'][0:9]\n",
    "\n",
    "print(x)\n",
    "print(y)"
   ]
  },
  {
   "cell_type": "code",
   "execution_count": 44,
   "metadata": {},
   "outputs": [
    {
     "data": {
      "text/plain": [
       "0.24"
      ]
     },
     "execution_count": 44,
     "metadata": {},
     "output_type": "execute_result"
    }
   ],
   "source": [
    "mat_data['stimulus']['dots']['coherence']"
   ]
  }
 ],
 "metadata": {
  "kernelspec": {
   "display_name": "bifurcation",
   "language": "python",
   "name": "python3"
  },
  "language_info": {
   "codemirror_mode": {
    "name": "ipython",
    "version": 3
   },
   "file_extension": ".py",
   "mimetype": "text/x-python",
   "name": "python",
   "nbconvert_exporter": "python",
   "pygments_lexer": "ipython3",
   "version": "3.10.13"
  }
 },
 "nbformat": 4,
 "nbformat_minor": 2
}
